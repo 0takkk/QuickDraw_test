{
 "cells": [
  {
   "cell_type": "code",
   "execution_count": 1,
   "id": "3cdd588c",
   "metadata": {},
   "outputs": [
    {
     "name": "stdout",
     "output_type": "stream",
     "text": [
      "file : data\\full_numpy_bitmap_apple.npy\n",
      "file : data\\full_numpy_bitmap_baseball bat.npy\n"
     ]
    }
   ],
   "source": [
    "import numpy as np\n",
    "import os\n",
    "import pickle\n",
    "\n",
    "#files = os.listdir(\"F:\\projects\\QD\\data\")\n",
    "files = os.listdir(os.path.join(\"data\",\"\"))\n",
    "\n",
    "x = []\n",
    "x_load = []\n",
    "y = []\n",
    "y_load = []\n",
    "\n",
    "\n",
    "def load_data():\n",
    "    count = 0\n",
    "    for file in files:\n",
    "        file = os.path.join(\"data\", file)\n",
    "        print(\"file : \" + file)\n",
    "        x = np.load(file)\n",
    "        x = x.astype('float32') / 255.\n",
    "        x = x[0:10000, :]\n",
    "        x_load.append(x)\n",
    "        y = [count for _ in range(10000)]\n",
    "        count += 1\n",
    "        y = np.array(y).astype('float32')\n",
    "        y = y.reshape(y.shape[0], 1)\n",
    "        y_load.append(y)\n",
    "\n",
    "    return x_load, y_load\n",
    "\n",
    "\n",
    "features, labels = load_data()\n",
    "features = np.array(features).astype('float32')\n",
    "labels = np.array(labels).astype('float32')\n",
    "features=features.reshape(features.shape[0]*features.shape[1],features.shape[2])\n",
    "labels=labels.reshape(labels.shape[0]*labels.shape[1],labels.shape[2])\n",
    "\n",
    "\n",
    "with open(\"features\", \"wb\") as f:\n",
    "    pickle.dump(features, f, protocol=4)\n",
    "with open(\"labels\", \"wb\") as f:\n",
    "    pickle.dump(labels, f, protocol=4)"
   ]
  },
  {
   "cell_type": "code",
   "execution_count": null,
   "id": "caaad5bd",
   "metadata": {},
   "outputs": [],
   "source": []
  }
 ],
 "metadata": {
  "kernelspec": {
   "display_name": "tftest",
   "language": "python",
   "name": "tftest"
  },
  "language_info": {
   "codemirror_mode": {
    "name": "ipython",
    "version": 3
   },
   "file_extension": ".py",
   "mimetype": "text/x-python",
   "name": "python",
   "nbconvert_exporter": "python",
   "pygments_lexer": "ipython3",
   "version": "3.6.13"
  }
 },
 "nbformat": 4,
 "nbformat_minor": 5
}
